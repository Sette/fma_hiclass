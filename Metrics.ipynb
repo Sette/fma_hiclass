{
 "cells": [
  {
   "cell_type": "code",
   "execution_count": 105,
   "id": "0f8de9e7-d31b-463d-8722-35d20147405a",
   "metadata": {},
   "outputs": [],
   "source": [
    "from pandas import pandas as pd"
   ]
  },
  {
   "cell_type": "code",
   "execution_count": 106,
   "id": "73ae6f1f-9bcb-425b-9b9c-7f20de9a4bf2",
   "metadata": {},
   "outputs": [],
   "source": [
    "from hiclass.metrics import precision, recall, f1"
   ]
  },
  {
   "cell_type": "code",
   "execution_count": 107,
   "id": "700bf43e-ca7a-4625-a0ff-fc6bdf5357bf",
   "metadata": {},
   "outputs": [],
   "source": [
    "from sklearn.metrics import classification_report"
   ]
  },
  {
   "cell_type": "code",
   "execution_count": 108,
   "id": "63895425-300f-43f2-b5ba-be8538145c23",
   "metadata": {},
   "outputs": [],
   "source": [
    "from sklearn.preprocessing import MultiLabelBinarizer"
   ]
  },
  {
   "cell_type": "code",
   "execution_count": 109,
   "id": "fbdc152e-5f3a-4b5a-b33f-41bf75637cd8",
   "metadata": {},
   "outputs": [],
   "source": [
    "import os"
   ]
  },
  {
   "cell_type": "code",
   "execution_count": 110,
   "id": "62529282-cf2b-434d-8df3-f34dbb4ddadd",
   "metadata": {},
   "outputs": [],
   "source": [
    "import ast"
   ]
  },
  {
   "cell_type": "code",
   "execution_count": 111,
   "id": "cd54e348-e053-4fe5-9141-a3b0790202e9",
   "metadata": {},
   "outputs": [],
   "source": [
    "from utils.data import load \n",
    "from utils.dir import create_dir"
   ]
  },
  {
   "cell_type": "code",
   "execution_count": 112,
   "id": "292e6482-786f-4366-8b50-5ea44edf6fb6",
   "metadata": {},
   "outputs": [],
   "source": [
    "def __load_json__(path):\n",
    "    with open(path, 'r') as f:\n",
    "        tmp = json.loads(f.read())\n",
    "\n",
    "    return tmp"
   ]
  },
  {
   "cell_type": "code",
   "execution_count": 113,
   "id": "b96e3b51-315e-47ea-807b-a587a04dbf10",
   "metadata": {},
   "outputs": [],
   "source": [
    "\n",
    "args = pd.Series({\n",
    "    \"root_dir\": \"/mnt/disks/data/\",\n",
    "    \"dataset_path\": \"/mnt/disks/data/fma/fma_large\", \n",
    "    \"metadata_path\": \"/mnt/disks/data/fma/fma_metadata\", \n",
    "    \"embeddings\": \"music_style\",\n",
    "    \"sequence_size\": 1280,\n",
    "    \"train_id\": \"hierarchical_hiclass\"\n",
    "})\n",
    "\n"
   ]
  },
  {
   "cell_type": "code",
   "execution_count": 114,
   "id": "bf66cb32-d0db-4882-8442-905bd02a1436",
   "metadata": {},
   "outputs": [],
   "source": [
    "\n",
    "job_path = \"/mnt/disks/data/fma/trains\"\n",
    "\n",
    "# In[15]:\n",
    "\n",
    "\n",
    "train_path = os.path.join(job_path, args.train_id)\n",
    "\n",
    "# In[16]:\n",
    "\n",
    "\n",
    "base_path = os.path.join(args.root_dir, \"fma\")\n",
    "\n",
    "# In[17]:\n",
    "\n",
    "\n",
    "models_path = os.path.join(args.root_dir, \"models\")\n",
    "\n",
    "\n",
    "# In[18]:\n",
    "\n",
    "\n",
    "metadata_file = os.path.join(train_path, \"metadata.json\")\n",
    "labels_file = os.path.join(train_path, \"labels.json\")\n",
    "hiclass_effnet_path = os.path.join(train_path, 'hiclass_effnet')\n",
    "hiclass_baseline_path = os.path.join(train_path, 'hiclass_baseline')"
   ]
  },
  {
   "cell_type": "code",
   "execution_count": 115,
   "id": "70b5e3ff-3242-4471-a487-14ba85276f1a",
   "metadata": {},
   "outputs": [
    {
     "data": {
      "text/plain": [
       "'/mnt/disks/data/fma/trains/hierarchical_hiclass/hiclass_effnet'"
      ]
     },
     "execution_count": 115,
     "metadata": {},
     "output_type": "execute_result"
    }
   ],
   "source": [
    "hiclass_effnet_path"
   ]
  },
  {
   "cell_type": "code",
   "execution_count": 116,
   "id": "59871395-ddad-445a-bc08-390e05014941",
   "metadata": {},
   "outputs": [],
   "source": [
    "dirs = os.listdir(hiclass_effnet_path)"
   ]
  },
  {
   "cell_type": "code",
   "execution_count": 117,
   "id": "67fc3690-52ae-406e-9c07-eebad18492f2",
   "metadata": {},
   "outputs": [
    {
     "data": {
      "text/plain": [
       "['MLP1']"
      ]
     },
     "execution_count": 117,
     "metadata": {},
     "output_type": "execute_result"
    }
   ],
   "source": [
    "dirs"
   ]
  },
  {
   "cell_type": "code",
   "execution_count": 118,
   "id": "d841b0bc-1fa6-4519-945e-ba463b1a5140",
   "metadata": {},
   "outputs": [],
   "source": [
    "df_predict = pd.read_csv(os.path.join(hiclass_effnet_path,dirs[0],'predict.csv'))"
   ]
  },
  {
   "cell_type": "code",
   "execution_count": 119,
   "id": "f3ae98ea-4e5c-4892-bb0f-a629a516629f",
   "metadata": {},
   "outputs": [],
   "source": [
    "def norm_labels(label):\n",
    "    label = ast.literal_eval(label)\n",
    "    #label = [[elemento for elemento in sublist if elemento != 0] for sublist in label]\n",
    "    return label"
   ]
  },
  {
   "cell_type": "code",
   "execution_count": 120,
   "id": "948adb85-9b4b-4fb9-9747-f233761cc03b",
   "metadata": {},
   "outputs": [],
   "source": [
    "df_predict['full_genre_id'] = df_predict.full_genre_id.apply(lambda x: norm_labels(x))"
   ]
  },
  {
   "cell_type": "code",
   "execution_count": 121,
   "id": "2a77a1c6-6326-46fa-ba38-7ad1dc7d9aab",
   "metadata": {},
   "outputs": [],
   "source": [
    "df_predict['y_pred'] = df_predict.y_pred.apply(lambda x: norm_labels(x))"
   ]
  },
  {
   "cell_type": "code",
   "execution_count": 122,
   "id": "7113efe3-06eb-484e-8288-08c65d2fa581",
   "metadata": {},
   "outputs": [],
   "source": [
    "y_true = df_predict.full_genre_id.values\n",
    "y_pred = df_predict.y_pred.values"
   ]
  },
  {
   "cell_type": "code",
   "execution_count": 123,
   "id": "338b0a16-b260-4fe7-8e76-3b68da83095e",
   "metadata": {},
   "outputs": [],
   "source": [
    "import numpy as np"
   ]
  },
  {
   "cell_type": "code",
   "execution_count": 124,
   "id": "35f5491d-5916-4f54-9e6f-e9ea393b35a2",
   "metadata": {},
   "outputs": [],
   "source": [
    "#y_pred = [[sublista for sublista in lista if any(element != '' for element in sublista)] for lista in y_pred]"
   ]
  },
  {
   "cell_type": "code",
   "execution_count": 125,
   "id": "f621b854-30a9-4c12-bc94-d924810ae9ac",
   "metadata": {},
   "outputs": [],
   "source": [
    "y_pred = [[[str(num) if num != '' else '' for num in sublist] for sublist in lista] for lista in y_pred]"
   ]
  },
  {
   "cell_type": "code",
   "execution_count": 126,
   "id": "c57e474e-e364-43dd-aaf7-d8fd58ab968b",
   "metadata": {},
   "outputs": [],
   "source": [
    "#y_pred = [y[0] for y in y_pred]"
   ]
  },
  {
   "cell_type": "code",
   "execution_count": 127,
   "id": "9474feb5-6b08-4396-9189-9a03b702652f",
   "metadata": {},
   "outputs": [],
   "source": [
    "y_true = [[[str(num) if num != '' else '' for num in sublist] for sublist in lista] for lista in y_true]"
   ]
  },
  {
   "cell_type": "code",
   "execution_count": 128,
   "id": "1e005b45-2dda-4104-ac69-4dcb02a73cd8",
   "metadata": {
    "scrolled": true
   },
   "outputs": [],
   "source": [
    "# Completar cada sublista com listas vazias até o comprimento máximo de 8\n",
    "y_true_completado = [sublista + [[]] * (8 - len(sublista)) for sublista in y_true]\n",
    "\n",
    "# Preencher cada lista vazia com strings vazias ('') até o tamanho de 5\n",
    "for sublista in y_true_completado:\n",
    "    for lista_vazia in sublista:\n",
    "        lista_vazia.extend([''] * (5 - len(lista_vazia)))"
   ]
  },
  {
   "cell_type": "code",
   "execution_count": 129,
   "id": "ab501dd0-087a-4313-9556-0ff5055818ee",
   "metadata": {},
   "outputs": [],
   "source": [
    "y_true = y_true_completado"
   ]
  },
  {
   "cell_type": "code",
   "execution_count": 130,
   "id": "7a0d55f3-4240-46d3-9207-3f1146c2ad2a",
   "metadata": {},
   "outputs": [],
   "source": [
    "#y_true = np.array([[[elemento for elemento in sublista if elemento != ''] for sublista in lista] for lista in y_true])"
   ]
  },
  {
   "cell_type": "code",
   "execution_count": 131,
   "id": "92a9ba1a-66e7-4a8e-9d93-2de74faabdfa",
   "metadata": {},
   "outputs": [
    {
     "data": {
      "text/plain": [
       "22228"
      ]
     },
     "execution_count": 131,
     "metadata": {},
     "output_type": "execute_result"
    }
   ],
   "source": [
    "len(y_true)"
   ]
  },
  {
   "cell_type": "code",
   "execution_count": 132,
   "id": "39792b79-1f5b-4f96-ba80-e92ef2acdb19",
   "metadata": {},
   "outputs": [
    {
     "data": {
      "text/plain": [
       "22228"
      ]
     },
     "execution_count": 132,
     "metadata": {},
     "output_type": "execute_result"
    }
   ],
   "source": [
    "len(y_pred)"
   ]
  },
  {
   "cell_type": "code",
   "execution_count": 133,
   "id": "0a4680e8-5901-4a7a-b426-e205776003ee",
   "metadata": {},
   "outputs": [
    {
     "name": "stdout",
     "output_type": "stream",
     "text": [
      "Precisão (média micro): 0.407190036221357\n",
      "Precisão (média macro): 0.4110537331722302\n",
      "Recall (média micro): 0.407190036221357\n",
      "Recall (média macro): 0.4110537331722302\n",
      "F1 (média micro): 0.407190036221357\n"
     ]
    }
   ],
   "source": [
    "# Calculando a precisão usando a função precision do HiClass\n",
    "precision_macro = precision(y_true, y_pred, average='macro')\n",
    "recall_macro = precision(y_true, y_pred, average='macro')\n",
    "\n",
    "precision_micro = precision(y_true, y_pred, average='micro')\n",
    "recall_micro = precision(y_true, y_pred, average='micro')\n",
    "\n",
    "f1_score_micro = 2 * precision_micro * recall_micro / (precision_micro + recall_micro)\n",
    "\n",
    "#report = classification_report(y_true_flat, y_pred_flat)\n",
    "## Imprimindo os resultados\n",
    "print(\"Precisão (média micro):\", precision_micro)\n",
    "print(\"Precisão (média macro):\", precision_macro)\n",
    "\n",
    "print(\"Recall (média micro):\", recall_micro)\n",
    "print(\"Recall (média macro):\", recall_macro)\n",
    "\n",
    "print(\"F1 (média micro):\", f1_score_micro)"
   ]
  },
  {
   "cell_type": "code",
   "execution_count": 134,
   "id": "7c2d351c-9525-4e50-9653-927cbf8cb6c9",
   "metadata": {},
   "outputs": [
    {
     "data": {
      "text/plain": [
       "22228"
      ]
     },
     "execution_count": 134,
     "metadata": {},
     "output_type": "execute_result"
    }
   ],
   "source": [
    "len(y_pred)"
   ]
  },
  {
   "cell_type": "code",
   "execution_count": 157,
   "id": "19ffc0d2-d33b-4b58-b837-e972349617ce",
   "metadata": {},
   "outputs": [
    {
     "data": {
      "text/plain": [
       "'58'"
      ]
     },
     "execution_count": 157,
     "metadata": {},
     "output_type": "execute_result"
    }
   ],
   "source": [
    "y_true[0][0][1]"
   ]
  },
  {
   "cell_type": "code",
   "execution_count": 66,
   "id": "b76861cd-21e1-4a0e-bcfd-c3b54322c9ef",
   "metadata": {},
   "outputs": [
    {
     "data": {
      "text/plain": [
       "25"
      ]
     },
     "execution_count": 66,
     "metadata": {},
     "output_type": "execute_result"
    }
   ],
   "source": [
    "y_pred[0][0][1]"
   ]
  },
  {
   "cell_type": "code",
   "execution_count": 283,
   "id": "e488a080-d088-4c90-9945-7e10e15420f0",
   "metadata": {},
   "outputs": [
    {
     "data": {
      "text/plain": [
       "5"
      ]
     },
     "execution_count": 283,
     "metadata": {},
     "output_type": "execute_result"
    }
   ],
   "source": [
    "len(y_true[0][0])"
   ]
  },
  {
   "cell_type": "code",
   "execution_count": 284,
   "id": "23786fbf-05af-4317-aa6e-63da549f6fb3",
   "metadata": {},
   "outputs": [
    {
     "name": "stdout",
     "output_type": "stream",
     "text": [
      "Label 0:\n",
      "Label 1:\n",
      "Label 2:\n"
     ]
    },
    {
     "name": "stderr",
     "output_type": "stream",
     "text": [
      "/home/bruno/.cache/pypoetry/virtualenvs/fma-hiclass-YXxd6Unq-py3.11/lib/python3.11/site-packages/sklearn/preprocessing/_label.py:900: UserWarning: unknown class(es) [''] will be ignored\n",
      "  warnings.warn(\n"
     ]
    },
    {
     "name": "stdout",
     "output_type": "stream",
     "text": [
      "Label 3:\n",
      "Label 4:\n"
     ]
    }
   ],
   "source": [
    "# Calcular métricas para cada rótulo individualmente\n",
    "y_t_all = []\n",
    "y_p_all = []\n",
    "for i in range(len(y_true[0][0])):\n",
    "    print(f\"Label {i}:\")\n",
    "    enc = MultiLabelBinarizer()\n",
    "    y_t_level = []\n",
    "    y_p_level = []\n",
    "    for y_t,y_p in zip(y_true,y_pred):\n",
    "        y_true_label = [sublist[i] for sublist in y_t]\n",
    "        y_pred_label = [sublist[i] for sublist in y_p]\n",
    "        y_t_level.append(y_true_label)\n",
    "        y_p_level.append(y_pred_label)\n",
    "    y_t_all.append(enc.fit_transform(y_t_level))\n",
    "    y_p_all.append(enc.transform(y_p_level))\n",
    "    \n",
    "#print(recall(y_true_label, y_pred_label))"
   ]
  },
  {
   "cell_type": "code",
   "execution_count": 285,
   "id": "71f327ec-4ebd-4ae4-9441-52bba4eaf1b1",
   "metadata": {},
   "outputs": [
    {
     "data": {
      "text/plain": [
       "16"
      ]
     },
     "execution_count": 285,
     "metadata": {},
     "output_type": "execute_result"
    }
   ],
   "source": [
    "len(y_t_all[0][0])"
   ]
  },
  {
   "cell_type": "code",
   "execution_count": 286,
   "id": "f29bc2a5-a019-4fcb-91a2-4a4a03ee30ee",
   "metadata": {},
   "outputs": [
    {
     "data": {
      "text/plain": [
       "16"
      ]
     },
     "execution_count": 286,
     "metadata": {},
     "output_type": "execute_result"
    }
   ],
   "source": [
    "len(y_p_all[0][0])"
   ]
  },
  {
   "cell_type": "code",
   "execution_count": 287,
   "id": "24201f19-0317-4aaf-88b6-56c3fcd3479f",
   "metadata": {},
   "outputs": [
    {
     "name": "stdout",
     "output_type": "stream",
     "text": [
      "              precision    recall  f1-score   support\n",
      "\n",
      "           0       0.15      0.00      0.01      3044\n",
      "           1       0.31      0.26      0.28      7122\n",
      "           2       0.15      0.01      0.01      3285\n",
      "           3       0.00      0.00      0.00       201\n",
      "           4       0.00      0.00      0.00       377\n",
      "           5       0.33      0.30      0.31      7404\n",
      "           6       0.11      0.03      0.05      2804\n",
      "           7       0.12      0.00      0.01      1280\n",
      "           8       0.00      0.00      0.00       453\n",
      "           9       0.11      0.01      0.01      1816\n",
      "          10       0.00      0.00      0.00       420\n",
      "          11       0.36      0.37      0.37      8207\n",
      "          12       0.00      0.00      0.00       973\n",
      "          13       0.04      0.00      0.01       934\n",
      "          14       0.00      0.00      0.00       201\n",
      "          15       0.17      0.00      0.01       468\n",
      "\n",
      "   micro avg       0.32      0.18      0.24     38989\n",
      "   macro avg       0.12      0.06      0.07     38989\n",
      "weighted avg       0.24      0.18      0.19     38989\n",
      " samples avg       0.32      0.19      0.23     38989\n",
      "\n"
     ]
    },
    {
     "name": "stderr",
     "output_type": "stream",
     "text": [
      "/home/bruno/.cache/pypoetry/virtualenvs/fma-hiclass-YXxd6Unq-py3.11/lib/python3.11/site-packages/sklearn/metrics/_classification.py:1509: UndefinedMetricWarning: Precision is ill-defined and being set to 0.0 in labels with no predicted samples. Use `zero_division` parameter to control this behavior.\n",
      "  _warn_prf(average, modifier, f\"{metric.capitalize()} is\", len(result))\n"
     ]
    }
   ],
   "source": [
    "print(classification_report(y_t_all[0], y_p_all[0]))"
   ]
  },
  {
   "cell_type": "code",
   "execution_count": 270,
   "id": "55f94d5e-56a8-4a1a-8fda-b56603efb80e",
   "metadata": {},
   "outputs": [],
   "source": [
    "enc.classes"
   ]
  },
  {
   "cell_type": "code",
   "execution_count": 35,
   "id": "90518640-8f86-45a9-a079-4af252213ce7",
   "metadata": {},
   "outputs": [
    {
     "name": "stdout",
     "output_type": "stream",
     "text": [
      "Precisão (média micro): 1.0\n",
      "Precisão (média macro): 1.0\n"
     ]
    }
   ],
   "source": [
    "import hiclass\n",
    "from hiclass import metrics\n",
    "import numpy as np\n",
    "\n",
    "# Suponha que você tenha rótulos verdadeiros (y_true) e rótulos previstos (y_pred)\n",
    "Y_true = np.array([\n",
    "    [[\"Retriever\", \"Golden Retriever\"], [\"Hound\", \"Dachshund\"]],\n",
    "    [[\"Retriever\", \"Labrador\"]],\n",
    "    [[\"Hound\", \"Dachshund\"], [\"Hound\", \"Beagle\"]],\n",
    "], dtype=object)\n",
    "\n",
    "Y_pred = np.array([\n",
    "    [[\"Retriever\", \"Golden Retriever\"], [\"Hound\", \"Dachshund\"]],\n",
    "    [[\"Retriever\", \"Labrador\"]],\n",
    "    [[\"Hound\", \"Dachshund\"], [\"Hound\", \"Beagle\"]],\n",
    "], dtype=object)\n",
    "\n",
    "# Convertendo para o formato aceito pelo HiClass\n",
    "y_true_flat = [[subitem for sublist in item for subitem in sublist] for item in Y_true]\n",
    "y_pred_flat = [[subitem for sublist in item for subitem in sublist] for item in Y_pred]\n",
    "\n",
    "# Calculando a precisão usando a função precision do HiClass\n",
    "precision_micro = metrics.precision(y_true_flat, y_pred_flat, average='micro')\n",
    "precision_macro = metrics.precision(y_true_flat, y_pred_flat, average='macro')\n",
    "\n",
    "# Imprimindo os resultados\n",
    "print(\"Precisão (média micro):\", precision_micro)\n",
    "print(\"Precisão (média macro):\", precision_macro)"
   ]
  },
  {
   "cell_type": "code",
   "execution_count": null,
   "id": "b8afc8ef-6f17-4079-93d5-9afd1b3ce333",
   "metadata": {},
   "outputs": [],
   "source": []
  }
 ],
 "metadata": {
  "kernelspec": {
   "display_name": "Python 3 (ipykernel)",
   "language": "python",
   "name": "python3"
  },
  "language_info": {
   "codemirror_mode": {
    "name": "ipython",
    "version": 3
   },
   "file_extension": ".py",
   "mimetype": "text/x-python",
   "name": "python",
   "nbconvert_exporter": "python",
   "pygments_lexer": "ipython3",
   "version": "3.11.4"
  }
 },
 "nbformat": 4,
 "nbformat_minor": 5
}
