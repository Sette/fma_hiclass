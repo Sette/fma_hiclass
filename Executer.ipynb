{
 "cells": [
  {
   "cell_type": "code",
   "execution_count": 1,
   "id": "bbc291da-2fb7-4e0d-95ba-3b822d9cfaab",
   "metadata": {
    "ExecuteTime": {
     "end_time": "2024-03-09T21:10:04.916381Z",
     "start_time": "2024-03-09T21:10:04.117703Z"
    }
   },
   "outputs": [
    {
     "name": "stderr",
     "output_type": "stream",
     "text": [
      "/tmp/ipykernel_96051/438071008.py:2: DeprecationWarning: \n",
      "Pyarrow will become a required dependency of pandas in the next major release of pandas (pandas 3.0),\n",
      "(to allow more performant data types, such as the Arrow string type, and better interoperability with other libraries)\n",
      "but was not found to be installed on your system.\n",
      "If this would cause problems for you,\n",
      "please provide us feedback at https://github.com/pandas-dev/pandas/issues/54466\n",
      "        \n",
      "  import pandas as pd\n"
     ]
    },
    {
     "ename": "ModuleNotFoundError",
     "evalue": "No module named 'sabotage'",
     "output_type": "error",
     "traceback": [
      "\u001b[0;31m---------------------------------------------------------------------------\u001b[0m",
      "\u001b[0;31mModuleNotFoundError\u001b[0m                       Traceback (most recent call last)",
      "Cell \u001b[0;32mIn[1], line 5\u001b[0m\n\u001b[1;32m      2\u001b[0m \u001b[38;5;28;01mimport\u001b[39;00m \u001b[38;5;21;01mpandas\u001b[39;00m \u001b[38;5;28;01mas\u001b[39;00m \u001b[38;5;21;01mpd\u001b[39;00m\n\u001b[1;32m      3\u001b[0m \u001b[38;5;28;01mfrom\u001b[39;00m \u001b[38;5;21;01mdatetime\u001b[39;00m \u001b[38;5;28;01mimport\u001b[39;00m datetime \u001b[38;5;28;01mas\u001b[39;00m dt\n\u001b[0;32m----> 5\u001b[0m \u001b[38;5;28;01mfrom\u001b[39;00m \u001b[38;5;21;01msabotage\u001b[39;00m\u001b[38;5;21;01m.\u001b[39;00m\u001b[38;5;21;01marguments\u001b[39;00m \u001b[38;5;28;01mimport\u001b[39;00m  build\n\u001b[1;32m      6\u001b[0m \u001b[38;5;28;01mfrom\u001b[39;00m \u001b[38;5;21;01msabotage\u001b[39;00m\u001b[38;5;21;01m.\u001b[39;00m\u001b[38;5;21;01mtrain\u001b[39;00m \u001b[38;5;28;01mimport\u001b[39;00m run\n\u001b[1;32m      8\u001b[0m \u001b[38;5;28;01mimport\u001b[39;00m \u001b[38;5;21;01mtensorflow\u001b[39;00m \u001b[38;5;28;01mas\u001b[39;00m \u001b[38;5;21;01mtf\u001b[39;00m\n",
      "\u001b[0;31mModuleNotFoundError\u001b[0m: No module named 'sabotage'"
     ]
    }
   ],
   "source": [
    "import os\n",
    "import pandas as pd\n",
    "from datetime import datetime as dt\n",
    "\n",
    "from hcml.model.arguments import  build\n",
    "from hcml.model.train import run\n",
    "\n",
    "import tensorflow as tf\n",
    "\n",
    "\n",
    "# Set python level verbosity\n",
    "tf.compat.v1.logging.set_verbosity(tf.compat.v1.logging.DEBUG)\n",
    "\n",
    "# Set C++ Graph Execution level verbosity\n",
    "os.environ['TF_CPP_MIN_LOG_LEVEL'] = str(tf.compat.v1.logging.DEBUG)\n",
    "\n",
    "base_path = \"/mnt/disks/data/fma/trains\"\n",
    "id = \"hierarchical_all\"\n"
   ]
  },
  {
   "cell_type": "code",
   "execution_count": 2,
   "id": "33a92da5-e8c4-4a52-87ea-fef1d0605416",
   "metadata": {},
   "outputs": [],
   "source": [
    "\n",
    "\n",
    "train_path = os.path.join(base_path,id)\n",
    "tfrecords_path =os.path.join(train_path,'tfrecords')\n",
    "metadata_path = os.path.join(train_path,\"metadata.json\")\n",
    "labels_path = os.path.join(train_path,\"labels.json\")\n",
    "\n",
    "\n",
    "args = pd.Series({\n",
    "    \"batch_size\":64,\n",
    "    \"epochs\":10,\n",
    "    \"dropout\":0.5,\n",
    "    'patience':1,\n",
    "    'max_queue_size':64,\n",
    "    \"labels_path\": labels_path,\n",
    "    \"metadata_path\": metadata_path,\n",
    "    \"trainset_pattern\": os.path.join(tfrecords_path,'train'),\n",
    "    \"testset_pattern\": os.path.join(tfrecords_path,'test'),\n",
    "    \"valset_pattern\": os.path.join(tfrecords_path,'val')\n",
    "})\n"
   ]
  },
  {
   "cell_type": "code",
   "execution_count": 3,
   "id": "312545aa-5e3c-4dce-8f33-36f7ba0f43b3",
   "metadata": {},
   "outputs": [
    {
     "name": "stdout",
     "output_type": "stream",
     "text": [
      "Looking in indexes: https://pypi.org/simple, https://pypi.ngc.nvidia.com\n",
      "Requirement already satisfied: pydot in /home/bruno/anaconda3/envs/fma_hc/lib/python3.11/site-packages (1.4.2)\n",
      "Requirement already satisfied: pyparsing>=2.1.4 in /home/bruno/anaconda3/envs/fma_hc/lib/python3.11/site-packages (from pydot) (3.1.1)\n"
     ]
    }
   ],
   "source": [
    "!pip install pydot"
   ]
  },
  {
   "cell_type": "code",
   "execution_count": 4,
   "id": "b033032f-4cb5-46bf-8ecc-3517ddaf6f51",
   "metadata": {
    "tags": []
   },
   "outputs": [
    {
     "name": "stdout",
     "output_type": "stream",
     "text": [
      "[hierarchical_all] Experiment started at 21:10:07\n",
      ".......................................\n",
      "batch_size                                                         64\n",
      "epochs                                                             10\n",
      "dropout                                                           0.5\n",
      "patience                                                            1\n",
      "max_queue_size                                                     64\n",
      "labels_path         /mnt/disks/data/fma/trains/hierarchical_all/la...\n",
      "metadata_path       /mnt/disks/data/fma/trains/hierarchical_all/me...\n",
      "trainset_pattern    /mnt/disks/data/fma/trains/hierarchical_all/tf...\n",
      "testset_pattern     /mnt/disks/data/fma/trains/hierarchical_all/tf...\n",
      "valset_pattern      /mnt/disks/data/fma/trains/hierarchical_all/tf...\n",
      "dtype: object\n",
      "batch_size                                                         64\n",
      "epochs                                                             10\n",
      "dropout                                                           0.5\n",
      "patience                                                            1\n",
      "max_queue_size                                                     64\n",
      "labels_path         /mnt/disks/data/fma/trains/hierarchical_all/la...\n",
      "metadata_path       /mnt/disks/data/fma/trains/hierarchical_all/me...\n",
      "trainset_pattern    /mnt/disks/data/fma/trains/hierarchical_all/tf...\n",
      "testset_pattern     /mnt/disks/data/fma/trains/hierarchical_all/tf...\n",
      "valset_pattern      /mnt/disks/data/fma/trains/hierarchical_all/tf...\n",
      "dtype: object\n",
      "{'sequence_size': 1280, 'n_levels': 5, 'labels_size': [16, 137, 293, 451, 159], 'val_path': '/mnt/disks/data/fma/trains/hierarchical_all/tfrecords/val', 'train_path': '/mnt/disks/data/fma/trains/hierarchical_all/tfrecords/train', 'test_path': '/mnt/disks/data/fma/trains/hierarchical_all/tfrecords/test', 'trainset_count': 102231, 'validationset_count': 1114, 'testset_count': 1125}\n",
      "{'levels_size': {'level1': 16, 'level2': 137, 'level3': 293, 'level4': 451, 'level5': 159}, 'sequence_size': 1280, 'dropout': 0.5}\n",
      ".......................................\n",
      "[hierarchical_all] Experiment finished at 21:10:10 / elapsed time 2.718245s\n"
     ]
    }
   ],
   "source": [
    "\n",
    "time_start = dt.utcnow()\n",
    "print(\"[{}] Experiment started at {}\".format(id, time_start.strftime(\"%H:%M:%S\")))\n",
    "print(\".......................................\")\n",
    "print(args)\n",
    "run(args)\n",
    "time_end = dt.utcnow()\n",
    "time_elapsed = time_end - time_start\n",
    "print(\".......................................\")\n",
    "print(\"[{}] Experiment finished at {} / elapsed time {}s\".format(id, time_end.strftime(\"%H:%M:%S\"), time_elapsed.total_seconds()))"
   ]
  },
  {
   "cell_type": "code",
   "execution_count": null,
   "id": "7efb52c5-58a6-486d-a397-6ac32b772d17",
   "metadata": {},
   "outputs": [],
   "source": []
  }
 ],
 "metadata": {
  "kernelspec": {
   "display_name": "Python 3 (ipykernel)",
   "language": "python",
   "name": "python3"
  },
  "language_info": {
   "codemirror_mode": {
    "name": "ipython",
    "version": 3
   },
   "file_extension": ".py",
   "mimetype": "text/x-python",
   "name": "python",
   "nbconvert_exporter": "python",
   "pygments_lexer": "ipython3",
   "version": "3.11.4"
  }
 },
 "nbformat": 4,
 "nbformat_minor": 5
}
